{
 "cells": [
  {
   "cell_type": "markdown",
   "id": "7018b947-899d-4562-8815-ea783ba8ac27",
   "metadata": {},
   "source": [
    "# Automatic File Sorter in File Explorer"
   ]
  },
  {
   "cell_type": "code",
   "execution_count": 81,
   "id": "06f5d916-45f3-42ad-bcd0-a9c9a86e74d1",
   "metadata": {},
   "outputs": [],
   "source": [
    "import os, shutil"
   ]
  },
  {
   "cell_type": "code",
   "execution_count": 83,
   "id": "cea0ecda-8d26-4e3d-8d72-4e2c2abeed29",
   "metadata": {},
   "outputs": [],
   "source": [
    "path = r\"C:/Users/JYOSNA/Documents/JYOSNA/\""
   ]
  },
  {
   "cell_type": "code",
   "execution_count": 85,
   "id": "05095df2-fb26-4a4c-8eff-9d0b89c931a0",
   "metadata": {},
   "outputs": [],
   "source": [
    "file_name = os.listdir(path)"
   ]
  },
  {
   "cell_type": "code",
   "execution_count": 87,
   "id": "3341522b-494b-4cf8-b9d1-456d7f2ef842",
   "metadata": {
    "scrolled": true
   },
   "outputs": [],
   "source": [
    "folder_names = ['csv files', 'image files', 'text files', 'pdf files', 'Document files' ]\n",
    "for loop in range(0,5):\n",
    "    if not os.path.exists(path + folder_names[loop]):\n",
    "        print(path + folder_names[loop])\n",
    "        os.makedirs(path + folder_names[loop])\n",
    "for file in file_name:\n",
    "    if \".csv\" in file and not os.path.exists(path + \"csv files/\" + file):\n",
    "        shutil.move(path + file, path + \"csv files/\" + file)\n",
    "    elif \".pdf\" in file and not os.path.exists(path + \"pdf files/\" + file):\n",
    "        shutil.move(path + file, path + \"pdf files/\" + file)\n",
    "    elif \".txt\" in file and not os.path.exists(path + \"text files/\" + file):\n",
    "        shutil.move(path + file, path + \"text files/\" + file)\n",
    "    elif \".docx\" in file and not os.path.exists(path + \"Document files/\" + file):\n",
    "        shutil.move(path + file, path + \"Document files/\" + file)\n",
    "    elif \".jpg\" in file and not os.path.exists(path + \"image files/\" + file):\n",
    "        shutil.move(path + file, path + \"image files/\" + file)\n",
    "    elif \".jpeg\" in file and not os.path.exists(path + \"image files/\" + file):\n",
    "        shutil.move(path + file, path + \"image files/\" + file)"
   ]
  },
  {
   "cell_type": "code",
   "execution_count": 71,
   "id": "c600d9eb-de36-4856-aa74-871e2eca6930",
   "metadata": {},
   "outputs": [],
   "source": [
    "\n"
   ]
  },
  {
   "cell_type": "code",
   "execution_count": null,
   "id": "0c3a742c-bd9d-4525-95ea-d0df9b3f0ded",
   "metadata": {},
   "outputs": [],
   "source": []
  },
  {
   "cell_type": "code",
   "execution_count": null,
   "id": "a77f3bbe-b597-467a-b934-1289dba0458d",
   "metadata": {},
   "outputs": [],
   "source": []
  },
  {
   "cell_type": "code",
   "execution_count": null,
   "id": "eee1442b-f18d-4469-b6b9-d15518e20640",
   "metadata": {},
   "outputs": [],
   "source": []
  },
  {
   "cell_type": "code",
   "execution_count": null,
   "id": "ebcbdb61-7ef6-4836-bffc-39e602f1f070",
   "metadata": {},
   "outputs": [],
   "source": []
  },
  {
   "cell_type": "code",
   "execution_count": null,
   "id": "08c5bee0-3b04-4382-b2f7-79f560eb549a",
   "metadata": {},
   "outputs": [],
   "source": []
  },
  {
   "cell_type": "code",
   "execution_count": null,
   "id": "87f2fa8a-a2f6-4262-a6ff-7c5bb00a9310",
   "metadata": {},
   "outputs": [],
   "source": []
  },
  {
   "cell_type": "code",
   "execution_count": null,
   "id": "53501bb9-095d-43b1-96fd-ca36f6820aaf",
   "metadata": {},
   "outputs": [],
   "source": []
  },
  {
   "cell_type": "code",
   "execution_count": null,
   "id": "ab55d51a-a994-4a68-b173-8a4a26291041",
   "metadata": {},
   "outputs": [],
   "source": []
  },
  {
   "cell_type": "code",
   "execution_count": null,
   "id": "d14afe07-5b58-4db8-a85e-a66cb30a373a",
   "metadata": {},
   "outputs": [],
   "source": []
  },
  {
   "cell_type": "code",
   "execution_count": null,
   "id": "8c787fef-ff30-48f8-abac-c788d83495c7",
   "metadata": {},
   "outputs": [],
   "source": []
  },
  {
   "cell_type": "code",
   "execution_count": null,
   "id": "628b869e-c59c-40b5-99d4-558782ed2f30",
   "metadata": {},
   "outputs": [],
   "source": []
  },
  {
   "cell_type": "code",
   "execution_count": null,
   "id": "df62c1b8-3652-4c12-9a77-58ebe5c5a54b",
   "metadata": {},
   "outputs": [],
   "source": []
  },
  {
   "cell_type": "code",
   "execution_count": null,
   "id": "1754bcef-b058-4d06-a7b0-f7cf6f64cce7",
   "metadata": {},
   "outputs": [],
   "source": []
  }
 ],
 "metadata": {
  "kernelspec": {
   "display_name": "Python 3 (ipykernel)",
   "language": "python",
   "name": "python3"
  },
  "language_info": {
   "codemirror_mode": {
    "name": "ipython",
    "version": 3
   },
   "file_extension": ".py",
   "mimetype": "text/x-python",
   "name": "python",
   "nbconvert_exporter": "python",
   "pygments_lexer": "ipython3",
   "version": "3.11.7"
  }
 },
 "nbformat": 4,
 "nbformat_minor": 5
}
