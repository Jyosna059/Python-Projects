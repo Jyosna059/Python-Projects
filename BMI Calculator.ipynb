{
 "cells": [
  {
   "cell_type": "markdown",
   "id": "582a249b-39f0-45e8-8043-81f3719abc26",
   "metadata": {},
   "source": [
    "# BMI Calculator"
   ]
  },
  {
   "cell_type": "code",
   "execution_count": null,
   "id": "ed5b8066-2a6a-4aa6-9bd8-b46f55fb6660",
   "metadata": {},
   "outputs": [],
   "source": []
  },
  {
   "cell_type": "markdown",
   "id": "21f9633c-91b7-4e4f-bc49-be8cc2dd08a2",
   "metadata": {},
   "source": [
    "### Calculate your Body Mass Index(BMI)\n",
    "Body Mass Index, or BMI is a measurement of a body fat based on height and weight.\n",
    "It can be calculated using pounds and inches: BMI = (Weight x 703) / (Height in inches x Height in inches). \n",
    "\n",
    "###### BMI --------> Classification ---> Health Risk\n",
    "###### Under 18.5--->Underweight------>Minimal\n",
    "###### 18.5 - 24.9-->Normal Weight---->Minimal\n",
    "###### 25 - 29.9---->Overweight------->Increased\n",
    "###### 30 - 34.9---->Obese-------------->High\n",
    "###### 35 - 39.9---->Severely Obese--->Very High\n",
    "###### 40 and Over->Morbidly Obese---->Extremely High\n",
    "#### Or you can use below calculator below:"
   ]
  },
  {
   "cell_type": "code",
   "execution_count": null,
   "id": "f9445523-31e3-4f42-83cb-d4bdb622bc42",
   "metadata": {},
   "outputs": [],
   "source": []
  },
  {
   "cell_type": "code",
   "execution_count": 48,
   "id": "a0beb3a5-ba47-40b3-8bb2-12d1e5c6fe96",
   "metadata": {},
   "outputs": [],
   "source": [
    "#BMI = (weight * 703) / (height * height)"
   ]
  },
  {
   "cell_type": "code",
   "execution_count": null,
   "id": "7958755a-76d5-4006-ab7c-f101e5051343",
   "metadata": {},
   "outputs": [],
   "source": [
    "\"\"\" <18.5---->Underweight----->Minimal\n",
    "18.5 - 24.9-->Normal Weight--->Minimal\n",
    "25 - 29.9---->Overweight------>Increased\n",
    "30 - 34.9---->Obese----------->High\n",
    "35 - 39.9---->Severely Obese-->Very High\n",
    "40 and Over->Morbidly Obese--->Extremely High \"\"\""
   ]
  },
  {
   "cell_type": "code",
   "execution_count": null,
   "id": "992b05a6-a59a-431f-a9b6-cdc1ed1bdc20",
   "metadata": {},
   "outputs": [],
   "source": []
  },
  {
   "cell_type": "code",
   "execution_count": 43,
   "id": "aabbc737-6c5a-4543-aa3d-5ec73311bd80",
   "metadata": {},
   "outputs": [
    {
     "name": "stdin",
     "output_type": "stream",
     "text": [
      "Enter Your Name Jyosna\n",
      "Enter your weight in pounds:  114\n",
      "Enter your height in inches:  62\n"
     ]
    },
    {
     "name": "stdout",
     "output_type": "stream",
     "text": [
      "20.84859521331946\n",
      "Jyosna, You are Normal Weight.\n"
     ]
    }
   ],
   "source": [
    "name = input(\"Enter Your Name\")\n",
    "\n",
    "weight = int(input(\"Enter your weight in pounds: \"))\n",
    "height = int(input(\"Enter your height in inches: \"))\n",
    "BMI = (weight * 703) / (height * height)\n",
    "print(BMI)\n",
    "if BMI>0:\n",
    "    if(BMI<18.5):\n",
    "        print(name +\", You are Underweight.\")\n",
    "    elif(BMI<=24.9):\n",
    "        print(name +\", You are Normal Weight.\")\n",
    "    elif(BMI<=29.9):\n",
    "        print(name +\", You are OverWeight.\")\n",
    "    elif(BMI<=34.9):\n",
    "        print(name +\", You are Obese.\")\n",
    "    elif(BMI<=39.9):\n",
    "        print(name +\", You are Severely Obese.\")\n",
    "    else:\n",
    "        print(name +\", You are morbidly Obese.\")\n",
    "else:\n",
    "    print(\"Enter Valid inputs\")\n"
   ]
  },
  {
   "cell_type": "code",
   "execution_count": null,
   "id": "0f70c2a0-7c71-459d-80bd-de5304c91eaa",
   "metadata": {},
   "outputs": [],
   "source": []
  },
  {
   "cell_type": "code",
   "execution_count": null,
   "id": "db17025a-bd92-4a8c-8d12-f62eafee6ac3",
   "metadata": {},
   "outputs": [],
   "source": []
  }
 ],
 "metadata": {
  "kernelspec": {
   "display_name": "Python 3 (ipykernel)",
   "language": "python",
   "name": "python3"
  },
  "language_info": {
   "codemirror_mode": {
    "name": "ipython",
    "version": 3
   },
   "file_extension": ".py",
   "mimetype": "text/x-python",
   "name": "python",
   "nbconvert_exporter": "python",
   "pygments_lexer": "ipython3",
   "version": "3.11.7"
  }
 },
 "nbformat": 4,
 "nbformat_minor": 5
}
